{
 "cells": [
  {
   "cell_type": "markdown",
   "metadata": {
    "id": "i-AaHHQUyhdW"
   },
   "source": [
    "# Importing the necessary libraries"
   ]
  },
  {
   "cell_type": "code",
   "execution_count": null,
   "metadata": {
    "id": "KdwwBeKWl-wj"
   },
   "outputs": [],
   "source": [
    "import os\n",
    "import joblib\n",
    "import shutil\n",
    "import numpy as np\n",
    "import pandas as pd\n",
    "from PIL import Image\n",
    "import matplotlib.pyplot as plt\n",
    "from tensorflow.keras.models import Sequential\n",
    "from tensorflow.keras.models import load_model\n",
    "from sklearn.metrics import classification_report\n",
    "from tensorflow.keras.preprocessing.image import ImageDataGenerator\n",
    "from tensorflow.keras.layers import Conv2D, MaxPooling2D, Flatten, Dense, Dropout"
   ]
  },
  {
   "cell_type": "markdown",
   "metadata": {
    "id": "fNF8iO2jynu2"
   },
   "source": [
    "# Defining the paths"
   ]
  },
  {
   "cell_type": "code",
   "execution_count": null,
   "metadata": {
    "id": "a0-VIVPnmDAH"
   },
   "outputs": [],
   "source": [
    "root_dir = \"dataset\"\n",
    "\n",
    "train_csv_path = f\"{root_dir}/train.csv\"\n",
    "test_csv_path = f\"{root_dir}/test.csv\"\n",
    "train_folder_path = f\"{root_dir}/train\"\n",
    "test_folder_path = f\"{root_dir}/test\""
   ]
  },
  {
   "cell_type": "markdown",
   "metadata": {
    "id": "Gd5Dbsh2yt-K"
   },
   "source": [
    "# Loading the CSV data"
   ]
  },
  {
   "cell_type": "code",
   "execution_count": null,
   "metadata": {
    "id": "nl8OnXMRkzTD"
   },
   "outputs": [],
   "source": [
    "train_data = pd.read_csv(train_csv_path)\n",
    "test_data = pd.read_csv(test_csv_path)"
   ]
  },
  {
   "cell_type": "markdown",
   "metadata": {
    "id": "HxtWgTl1yv2I"
   },
   "source": [
    "# Defining Image directories and copying the images"
   ]
  },
  {
   "cell_type": "code",
   "execution_count": null,
   "metadata": {
    "colab": {
     "base_uri": "https://localhost:8080/"
    },
    "id": "7WG1J1AYo5PH",
    "outputId": "f4f420f9-4ec9-4cab-8af8-6e7cee604312"
   },
   "outputs": [],
   "source": [
    "train_images_dir = f\"{root_dir}/train/images\"\n",
    "test_images_dir = f\"{root_dir}/test/images\"\n",
    "\n",
    "if not os.path.exists(train_images_dir):\n",
    "    os.makedirs(train_images_dir, exist_ok=True)\n",
    "    for i, row in train_data.iterrows():\n",
    "        shutil.copy(\n",
    "            os.path.join(train_folder_path, row[\"filename\"]),\n",
    "            f\"{train_images_dir}/{row['filename']}\",\n",
    "        )\n",
    "else:\n",
    "    print(f\"{train_images_dir} already exists, skipping copy for training images.\")\n",
    "\n",
    "if not os.path.exists(test_images_dir):\n",
    "    os.makedirs(test_images_dir, exist_ok=True)\n",
    "    for i, row in test_data.iterrows():\n",
    "        shutil.copy(\n",
    "            os.path.join(test_folder_path, row[\"filename\"]),\n",
    "            f\"{test_images_dir}/{row['filename']}\",\n",
    "        )\n",
    "else:\n",
    "    print(f\"{test_images_dir} already exists, skipping copy for testing images.\")"
   ]
  },
  {
   "cell_type": "markdown",
   "metadata": {
    "id": "yjP7h1KqzCu5"
   },
   "source": [
    "# Data Preprocessing, creating data generator (training,validation)"
   ]
  },
  {
   "cell_type": "code",
   "execution_count": null,
   "metadata": {
    "colab": {
     "base_uri": "https://localhost:8080/"
    },
    "id": "55yT19Mdr02b",
    "outputId": "4d3dae4e-9a15-42c6-8b83-2a782ba42505"
   },
   "outputs": [],
   "source": [
    "print(len(os.listdir(f\"{root_dir}/train/images\")))\n",
    "\n",
    "train_datagen = ImageDataGenerator(rescale=1.0 / 255, validation_split=0.2)\n",
    "\n",
    "train_generator = train_datagen.flow_from_dataframe(\n",
    "    dataframe=train_data,\n",
    "    directory=f\"{root_dir}/train/images\",\n",
    "    x_col=\"filename\",\n",
    "    y_col=\"category\",\n",
    "    target_size=(256, 256),\n",
    "    batch_size=32,\n",
    "    class_mode=\"categorical\",\n",
    "    subset=\"training\",\n",
    ")\n",
    "\n",
    "validation_generator = train_datagen.flow_from_dataframe(\n",
    "    dataframe=train_data,\n",
    "    directory=f\"{root_dir}/train/images\",\n",
    "    x_col=\"filename\",\n",
    "    y_col=\"category\",\n",
    "    target_size=(256, 256),\n",
    "    batch_size=32,\n",
    "    class_mode=\"categorical\",\n",
    "    subset=\"validation\",\n",
    ")"
   ]
  },
  {
   "cell_type": "code",
   "execution_count": null,
   "metadata": {
    "id": "LaJGjC2dDW2p"
   },
   "outputs": [],
   "source": [
    "class_indices = train_generator.class_indices\n",
    "class_indices"
   ]
  },
  {
   "cell_type": "markdown",
   "metadata": {
    "id": "OQt1uCaAzPxP"
   },
   "source": [
    "# Load and preprocess image"
   ]
  },
  {
   "cell_type": "code",
   "execution_count": null,
   "metadata": {
    "id": "PsaOi-r6p93P"
   },
   "outputs": [],
   "source": [
    "def load_and_preprocess_image(image_path, target_size=(256, 256)):\n",
    "    img = Image.open(image_path)\n",
    "    img = img.resize(target_size)\n",
    "    img_array = np.array(img) / 255.0  # Normalize pixel values\n",
    "    return img_array"
   ]
  },
  {
   "cell_type": "markdown",
   "metadata": {
    "id": "geQxAyiDzSQk"
   },
   "source": [
    "# Define model architecture"
   ]
  },
  {
   "cell_type": "code",
   "execution_count": null,
   "metadata": {
    "id": "yUq31Z2SsCO0"
   },
   "outputs": [],
   "source": [
    "model = Sequential(\n",
    "    [\n",
    "        Conv2D(32, (3, 3), activation=\"relu\", input_shape=(256, 256, 3)),\n",
    "        MaxPooling2D((2, 2)),\n",
    "        Conv2D(64, (3, 3), activation=\"relu\"),\n",
    "        MaxPooling2D((2, 2)),\n",
    "        Conv2D(128, (3, 3), activation=\"relu\"),\n",
    "        MaxPooling2D((2, 2)),\n",
    "        Flatten(),\n",
    "        Dense(512, activation=\"relu\"),\n",
    "        Dropout(0.5),\n",
    "        Dense(len(train_generator.class_indices), activation=\"softmax\"),\n",
    "    ]\n",
    ")"
   ]
  },
  {
   "cell_type": "markdown",
   "metadata": {
    "id": "Cu7p2cYXzWwg"
   },
   "source": [
    "# Compiling and Training the model"
   ]
  },
  {
   "cell_type": "code",
   "execution_count": null,
   "metadata": {
    "colab": {
     "base_uri": "https://localhost:8080/"
    },
    "id": "uHYZtjKpsIeJ",
    "outputId": "4485d767-e07b-4839-aed5-1599e1167e09"
   },
   "outputs": [],
   "source": [
    "# Compile model\n",
    "model.compile(optimizer=\"adam\", loss=\"categorical_crossentropy\", metrics=[\"accuracy\"])\n",
    "\n",
    "# Training the model\n",
    "history = model.fit(train_generator, epochs=100, validation_data=validation_generator)"
   ]
  },
  {
   "cell_type": "markdown",
   "metadata": {
    "id": "Kuh-avjozaWg"
   },
   "source": [
    "# Saving the model"
   ]
  },
  {
   "cell_type": "code",
   "execution_count": null,
   "metadata": {
    "colab": {
     "base_uri": "https://localhost:8080/"
    },
    "id": "FiZYvIqbsLy-",
    "outputId": "44c277db-5d65-41fc-b944-c3f25e1d9a83"
   },
   "outputs": [],
   "source": [
    "model.save(\"models/table_classification_model_100.keras\")\n",
    "joblib.dump(list(class_indices), \"models/labels.pkl\")"
   ]
  },
  {
   "cell_type": "markdown",
   "metadata": {
    "id": "zClzHqEszcJH"
   },
   "source": [
    "# Visualizing the results"
   ]
  },
  {
   "cell_type": "code",
   "execution_count": null,
   "metadata": {
    "colab": {
     "base_uri": "https://localhost:8080/",
     "height": 507
    },
    "id": "hzQCo-aC4h7L",
    "outputId": "3ae495d5-b8c5-4d0f-e0ab-ff3abb07a79a"
   },
   "outputs": [],
   "source": [
    "# Extracting data from the history object\n",
    "acc = history.history[\"accuracy\"]\n",
    "val_acc = history.history[\"val_accuracy\"]\n",
    "loss = history.history[\"loss\"]\n",
    "val_loss = history.history[\"val_loss\"]\n",
    "\n",
    "epochs = range(len(acc))\n",
    "\n",
    "# Plotting training and validation accuracy\n",
    "plt.figure(figsize=(14, 5))\n",
    "\n",
    "plt.subplot(1, 2, 1)\n",
    "plt.plot(epochs, acc, \"bo-\", label=\"Training accuracy\")\n",
    "plt.plot(epochs, val_acc, \"ro-\", label=\"Validation accuracy\")\n",
    "plt.title(\"Training and Validation Accuracy\")\n",
    "plt.xlabel(\"Epochs\")\n",
    "plt.ylabel(\"Accuracy\")\n",
    "plt.legend()\n",
    "\n",
    "# Plotting training and validation loss\n",
    "plt.subplot(1, 2, 2)\n",
    "plt.plot(epochs, loss, \"bo-\", label=\"Training loss\")\n",
    "plt.plot(epochs, val_loss, \"ro-\", label=\"Validation loss\")\n",
    "plt.title(\"Training and Validation Loss\")\n",
    "plt.xlabel(\"Epochs\")\n",
    "plt.ylabel(\"Loss\")\n",
    "plt.legend()\n",
    "\n",
    "plt.tight_layout()\n",
    "plt.show()"
   ]
  },
  {
   "cell_type": "code",
   "execution_count": null,
   "metadata": {
    "colab": {
     "base_uri": "https://localhost:8080/"
    },
    "id": "AJMspvsq46Ja",
    "outputId": "4ab4416f-e1d6-431c-8e79-5478994343ea"
   },
   "outputs": [],
   "source": [
    "test_datagen = ImageDataGenerator(rescale=1.0 / 255)\n",
    "\n",
    "test_generator = test_datagen.flow_from_dataframe(\n",
    "    dataframe=test_data,\n",
    "    directory=test_images_dir,\n",
    "    x_col=\"filename\",\n",
    "    y_col=\"category\",\n",
    "    target_size=(256, 256),\n",
    "    batch_size=32,\n",
    "    class_mode=\"categorical\",\n",
    "    shuffle=False,\n",
    ")"
   ]
  },
  {
   "cell_type": "markdown",
   "metadata": {},
   "source": [
    "# Loading Model"
   ]
  },
  {
   "cell_type": "code",
   "execution_count": null,
   "metadata": {
    "id": "L1-8GJqgVXVR"
   },
   "outputs": [],
   "source": [
    "model_path = \"models/table_classification_model_100.keras\"\n",
    "model = load_model(model_path)\n",
    "labels = joblib.load(\"models/labels.pkl\")"
   ]
  },
  {
   "cell_type": "code",
   "execution_count": null,
   "metadata": {
    "colab": {
     "base_uri": "https://localhost:8080/"
    },
    "id": "sU3JXS6NVULS",
    "outputId": "c87ecd4b-05ec-44db-a117-5c085f8a82f4"
   },
   "outputs": [],
   "source": [
    "test_loss, test_accuracy = model.evaluate(test_generator)\n",
    "print(f\"Test Loss: {test_loss}\")\n",
    "print(f\"Test Accuracy: {test_accuracy}\")"
   ]
  },
  {
   "cell_type": "code",
   "execution_count": null,
   "metadata": {
    "colab": {
     "base_uri": "https://localhost:8080/"
    },
    "id": "4YospgIXVimp",
    "outputId": "f6ebc744-dc82-4bc9-9b3b-a70ed2f3564c"
   },
   "outputs": [],
   "source": [
    "test_predictions = model.predict(test_generator)\n",
    "test_predicted_classes = np.argmax(test_predictions, axis=1)\n",
    "true_classes = test_generator.classes"
   ]
  },
  {
   "cell_type": "code",
   "execution_count": null,
   "metadata": {
    "colab": {
     "base_uri": "https://localhost:8080/"
    },
    "id": "EWWJ02N7Vnv2",
    "outputId": "abb6ec3b-8af9-4fd6-e7db-88e3a32ad3a4"
   },
   "outputs": [],
   "source": [
    "class_labels = list(test_generator.class_indices.keys())\n",
    "report = classification_report(\n",
    "    true_classes, test_predicted_classes, target_names=class_labels\n",
    ")\n",
    "print(report)"
   ]
  },
  {
   "cell_type": "code",
   "execution_count": null,
   "metadata": {
    "id": "F7QdNd6mWNTn"
   },
   "outputs": [],
   "source": []
  }
 ],
 "metadata": {
  "accelerator": "GPU",
  "colab": {
   "authorship_tag": "ABX9TyMtFaSXHMuTW8KcwsJ8iJIJ",
   "gpuType": "T4",
   "include_colab_link": true,
   "mount_file_id": "https://github.com/aniketinamdar/Quantum-Leap/blob/main/Image_classification.ipynb",
   "provenance": []
  },
  "kernelspec": {
   "display_name": ".venv",
   "language": "python",
   "name": "python3"
  },
  "language_info": {
   "codemirror_mode": {
    "name": "ipython",
    "version": 3
   },
   "file_extension": ".py",
   "mimetype": "text/x-python",
   "name": "python",
   "nbconvert_exporter": "python",
   "pygments_lexer": "ipython3",
   "version": "3.12.6"
  }
 },
 "nbformat": 4,
 "nbformat_minor": 0
}
